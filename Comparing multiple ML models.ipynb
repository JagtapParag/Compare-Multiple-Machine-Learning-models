{
 "cells": [
  {
   "cell_type": "markdown",
   "id": "b208e901-05a6-4fd4-bed0-4caf18917f02",
   "metadata": {},
   "source": [
    "## Comparing Multiple Machine Learning models "
   ]
  },
  {
   "cell_type": "markdown",
   "id": "517aa20b-f1b2-46e6-884a-3998b17f9fc4",
   "metadata": {},
   "source": [
    "The comparison of multiple Machine Learning models refers to training, evaluating, and analyzing the performance of different algorithms on the same dataset to identify which model performs best for a specific predictive task. \n",
    "By comparing multiple models, we aim to select the most effective algorithm that offers the optimal balance of accuracy, complexity, and performance for their specific problem."
   ]
  },
  {
   "cell_type": "code",
   "execution_count": 1,
   "id": "594ff02b-390d-42f2-a21c-1019644baf93",
   "metadata": {},
   "outputs": [],
   "source": [
    "import pandas as pd\n",
    "data = pd.read_csv('Real_Estate.csv')"
   ]
  },
  {
   "cell_type": "code",
   "execution_count": 2,
   "id": "b0d6c5c5-8f5f-456f-8d11-bbae3ac11fd3",
   "metadata": {},
   "outputs": [
    {
     "data": {
      "text/html": [
       "<div>\n",
       "<style scoped>\n",
       "    .dataframe tbody tr th:only-of-type {\n",
       "        vertical-align: middle;\n",
       "    }\n",
       "\n",
       "    .dataframe tbody tr th {\n",
       "        vertical-align: top;\n",
       "    }\n",
       "\n",
       "    .dataframe thead th {\n",
       "        text-align: right;\n",
       "    }\n",
       "</style>\n",
       "<table border=\"1\" class=\"dataframe\">\n",
       "  <thead>\n",
       "    <tr style=\"text-align: right;\">\n",
       "      <th></th>\n",
       "      <th>Transaction date</th>\n",
       "      <th>House age</th>\n",
       "      <th>Distance to the nearest MRT station</th>\n",
       "      <th>Number of convenience stores</th>\n",
       "      <th>Latitude</th>\n",
       "      <th>Longitude</th>\n",
       "      <th>House price of unit area</th>\n",
       "    </tr>\n",
       "  </thead>\n",
       "  <tbody>\n",
       "    <tr>\n",
       "      <th>0</th>\n",
       "      <td>2012-09-02 16:42:30.519336</td>\n",
       "      <td>13.3</td>\n",
       "      <td>4082.0150</td>\n",
       "      <td>8</td>\n",
       "      <td>25.007059</td>\n",
       "      <td>121.561694</td>\n",
       "      <td>6.488673</td>\n",
       "    </tr>\n",
       "    <tr>\n",
       "      <th>1</th>\n",
       "      <td>2012-09-04 22:52:29.919544</td>\n",
       "      <td>35.5</td>\n",
       "      <td>274.0144</td>\n",
       "      <td>2</td>\n",
       "      <td>25.012148</td>\n",
       "      <td>121.546990</td>\n",
       "      <td>24.970725</td>\n",
       "    </tr>\n",
       "    <tr>\n",
       "      <th>2</th>\n",
       "      <td>2012-09-05 01:10:52.349449</td>\n",
       "      <td>1.1</td>\n",
       "      <td>1978.6710</td>\n",
       "      <td>10</td>\n",
       "      <td>25.003850</td>\n",
       "      <td>121.528336</td>\n",
       "      <td>26.694267</td>\n",
       "    </tr>\n",
       "    <tr>\n",
       "      <th>3</th>\n",
       "      <td>2012-09-05 13:26:01.189083</td>\n",
       "      <td>22.2</td>\n",
       "      <td>1055.0670</td>\n",
       "      <td>5</td>\n",
       "      <td>24.962887</td>\n",
       "      <td>121.482178</td>\n",
       "      <td>38.091638</td>\n",
       "    </tr>\n",
       "    <tr>\n",
       "      <th>4</th>\n",
       "      <td>2012-09-06 08:29:47.910523</td>\n",
       "      <td>8.5</td>\n",
       "      <td>967.4000</td>\n",
       "      <td>6</td>\n",
       "      <td>25.011037</td>\n",
       "      <td>121.479946</td>\n",
       "      <td>21.654710</td>\n",
       "    </tr>\n",
       "  </tbody>\n",
       "</table>\n",
       "</div>"
      ],
      "text/plain": [
       "             Transaction date  House age  Distance to the nearest MRT station  \\\n",
       "0  2012-09-02 16:42:30.519336       13.3                            4082.0150   \n",
       "1  2012-09-04 22:52:29.919544       35.5                             274.0144   \n",
       "2  2012-09-05 01:10:52.349449        1.1                            1978.6710   \n",
       "3  2012-09-05 13:26:01.189083       22.2                            1055.0670   \n",
       "4  2012-09-06 08:29:47.910523        8.5                             967.4000   \n",
       "\n",
       "   Number of convenience stores   Latitude   Longitude  \\\n",
       "0                             8  25.007059  121.561694   \n",
       "1                             2  25.012148  121.546990   \n",
       "2                            10  25.003850  121.528336   \n",
       "3                             5  24.962887  121.482178   \n",
       "4                             6  25.011037  121.479946   \n",
       "\n",
       "   House price of unit area  \n",
       "0                  6.488673  \n",
       "1                 24.970725  \n",
       "2                 26.694267  \n",
       "3                 38.091638  \n",
       "4                 21.654710  "
      ]
     },
     "execution_count": 2,
     "metadata": {},
     "output_type": "execute_result"
    }
   ],
   "source": [
    "data_head = data.head()\n",
    "data_head"
   ]
  },
  {
   "cell_type": "code",
   "execution_count": 3,
   "id": "56b01c7c-9bd7-4691-a9ea-f18531987910",
   "metadata": {},
   "outputs": [
    {
     "name": "stdout",
     "output_type": "stream",
     "text": [
      "<class 'pandas.core.frame.DataFrame'>\n",
      "RangeIndex: 414 entries, 0 to 413\n",
      "Data columns (total 7 columns):\n",
      " #   Column                               Non-Null Count  Dtype  \n",
      "---  ------                               --------------  -----  \n",
      " 0   Transaction date                     414 non-null    object \n",
      " 1   House age                            414 non-null    float64\n",
      " 2   Distance to the nearest MRT station  414 non-null    float64\n",
      " 3   Number of convenience stores         414 non-null    int64  \n",
      " 4   Latitude                             414 non-null    float64\n",
      " 5   Longitude                            414 non-null    float64\n",
      " 6   House price of unit area             414 non-null    float64\n",
      "dtypes: float64(5), int64(1), object(1)\n",
      "memory usage: 22.8+ KB\n"
     ]
    }
   ],
   "source": [
    "data.info()  # to understand the data types"
   ]
  },
  {
   "cell_type": "code",
   "execution_count": 4,
   "id": "1e5caf4f-5a2b-4242-9109-dbacb0b47f83",
   "metadata": {},
   "outputs": [],
   "source": [
    "from sklearn.model_selection import train_test_split\n",
    "from sklearn.preprocessing import StandardScaler\n",
    "import datetime"
   ]
  },
  {
   "cell_type": "markdown",
   "id": "953150fd-9ab8-4478-be3e-5627925f39ba",
   "metadata": {},
   "source": [
    "Convert \"Transaction date\" to datetime and extract year and month"
   ]
  },
  {
   "cell_type": "code",
   "execution_count": 5,
   "id": "069daff2-227a-42cb-b496-1f2087ee5b5d",
   "metadata": {},
   "outputs": [],
   "source": [
    "data['Transaction date'] = pd.to_datetime(data['Transaction date'])\n",
    "data['Transaction year'] = data['Transaction date'].dt.year\n",
    "data['Transaction month'] = data['Transaction date'].dt.month"
   ]
  },
  {
   "cell_type": "markdown",
   "id": "81ff1b4e-2e4a-4998-af98-87c2071aef33",
   "metadata": {},
   "source": [
    "Drop the orignal 'Transaction date' as we have extracted the relevant features"
   ]
  },
  {
   "cell_type": "code",
   "execution_count": 6,
   "id": "f16f2d34-fbbb-4de6-9fef-b3a6467efbe0",
   "metadata": {},
   "outputs": [],
   "source": [
    "data = data.drop(columns=['Transaction date'])"
   ]
  },
  {
   "cell_type": "code",
   "execution_count": 7,
   "id": "3a776e6a-22e1-4ee5-9d94-f7a73f7ba17e",
   "metadata": {},
   "outputs": [
    {
     "name": "stdout",
     "output_type": "stream",
     "text": [
      "<class 'pandas.core.frame.DataFrame'>\n",
      "RangeIndex: 414 entries, 0 to 413\n",
      "Data columns (total 8 columns):\n",
      " #   Column                               Non-Null Count  Dtype  \n",
      "---  ------                               --------------  -----  \n",
      " 0   House age                            414 non-null    float64\n",
      " 1   Distance to the nearest MRT station  414 non-null    float64\n",
      " 2   Number of convenience stores         414 non-null    int64  \n",
      " 3   Latitude                             414 non-null    float64\n",
      " 4   Longitude                            414 non-null    float64\n",
      " 5   House price of unit area             414 non-null    float64\n",
      " 6   Transaction year                     414 non-null    int32  \n",
      " 7   Transaction month                    414 non-null    int32  \n",
      "dtypes: float64(5), int32(2), int64(1)\n",
      "memory usage: 22.8 KB\n"
     ]
    }
   ],
   "source": [
    "data.info()"
   ]
  },
  {
   "cell_type": "code",
   "execution_count": 8,
   "id": "8d404645-fb9b-4d2e-bdb1-51ae8fafce3c",
   "metadata": {},
   "outputs": [
    {
     "data": {
      "text/html": [
       "<div>\n",
       "<style scoped>\n",
       "    .dataframe tbody tr th:only-of-type {\n",
       "        vertical-align: middle;\n",
       "    }\n",
       "\n",
       "    .dataframe tbody tr th {\n",
       "        vertical-align: top;\n",
       "    }\n",
       "\n",
       "    .dataframe thead th {\n",
       "        text-align: right;\n",
       "    }\n",
       "</style>\n",
       "<table border=\"1\" class=\"dataframe\">\n",
       "  <thead>\n",
       "    <tr style=\"text-align: right;\">\n",
       "      <th></th>\n",
       "      <th>House age</th>\n",
       "      <th>Distance to the nearest MRT station</th>\n",
       "      <th>Number of convenience stores</th>\n",
       "      <th>Latitude</th>\n",
       "      <th>Longitude</th>\n",
       "      <th>House price of unit area</th>\n",
       "      <th>Transaction year</th>\n",
       "      <th>Transaction month</th>\n",
       "    </tr>\n",
       "  </thead>\n",
       "  <tbody>\n",
       "    <tr>\n",
       "      <th>0</th>\n",
       "      <td>13.3</td>\n",
       "      <td>4082.0150</td>\n",
       "      <td>8</td>\n",
       "      <td>25.007059</td>\n",
       "      <td>121.561694</td>\n",
       "      <td>6.488673</td>\n",
       "      <td>2012</td>\n",
       "      <td>9</td>\n",
       "    </tr>\n",
       "    <tr>\n",
       "      <th>1</th>\n",
       "      <td>35.5</td>\n",
       "      <td>274.0144</td>\n",
       "      <td>2</td>\n",
       "      <td>25.012148</td>\n",
       "      <td>121.546990</td>\n",
       "      <td>24.970725</td>\n",
       "      <td>2012</td>\n",
       "      <td>9</td>\n",
       "    </tr>\n",
       "    <tr>\n",
       "      <th>2</th>\n",
       "      <td>1.1</td>\n",
       "      <td>1978.6710</td>\n",
       "      <td>10</td>\n",
       "      <td>25.003850</td>\n",
       "      <td>121.528336</td>\n",
       "      <td>26.694267</td>\n",
       "      <td>2012</td>\n",
       "      <td>9</td>\n",
       "    </tr>\n",
       "    <tr>\n",
       "      <th>3</th>\n",
       "      <td>22.2</td>\n",
       "      <td>1055.0670</td>\n",
       "      <td>5</td>\n",
       "      <td>24.962887</td>\n",
       "      <td>121.482178</td>\n",
       "      <td>38.091638</td>\n",
       "      <td>2012</td>\n",
       "      <td>9</td>\n",
       "    </tr>\n",
       "    <tr>\n",
       "      <th>4</th>\n",
       "      <td>8.5</td>\n",
       "      <td>967.4000</td>\n",
       "      <td>6</td>\n",
       "      <td>25.011037</td>\n",
       "      <td>121.479946</td>\n",
       "      <td>21.654710</td>\n",
       "      <td>2012</td>\n",
       "      <td>9</td>\n",
       "    </tr>\n",
       "  </tbody>\n",
       "</table>\n",
       "</div>"
      ],
      "text/plain": [
       "   House age  Distance to the nearest MRT station  \\\n",
       "0       13.3                            4082.0150   \n",
       "1       35.5                             274.0144   \n",
       "2        1.1                            1978.6710   \n",
       "3       22.2                            1055.0670   \n",
       "4        8.5                             967.4000   \n",
       "\n",
       "   Number of convenience stores   Latitude   Longitude  \\\n",
       "0                             8  25.007059  121.561694   \n",
       "1                             2  25.012148  121.546990   \n",
       "2                            10  25.003850  121.528336   \n",
       "3                             5  24.962887  121.482178   \n",
       "4                             6  25.011037  121.479946   \n",
       "\n",
       "   House price of unit area  Transaction year  Transaction month  \n",
       "0                  6.488673              2012                  9  \n",
       "1                 24.970725              2012                  9  \n",
       "2                 26.694267              2012                  9  \n",
       "3                 38.091638              2012                  9  \n",
       "4                 21.654710              2012                  9  "
      ]
     },
     "execution_count": 8,
     "metadata": {},
     "output_type": "execute_result"
    }
   ],
   "source": [
    "data.head()"
   ]
  },
  {
   "cell_type": "markdown",
   "id": "0134e99c-9883-409d-93e3-812dec38e011",
   "metadata": {},
   "source": [
    "Define Features and Target variables"
   ]
  },
  {
   "cell_type": "code",
   "execution_count": 9,
   "id": "b69dcfda-991c-49b9-99cc-a72b71a10ee1",
   "metadata": {},
   "outputs": [],
   "source": [
    "x = data.drop('House price of unit area', axis=1)\n",
    "y = data['House price of unit area']"
   ]
  },
  {
   "cell_type": "markdown",
   "id": "34fa92b8-74cc-4f0d-a1fd-e5b924af653a",
   "metadata": {},
   "source": [
    "Split the data into training and testing sets"
   ]
  },
  {
   "cell_type": "code",
   "execution_count": 10,
   "id": "10a741b4-832b-4857-8668-a126019e297c",
   "metadata": {},
   "outputs": [],
   "source": [
    "x_train, x_test, y_train, y_test = train_test_split(x, y, test_size=0.2, random_state=42)"
   ]
  },
  {
   "cell_type": "markdown",
   "id": "ba1c158e-94e6-42ea-ba57-d45dcb2f13cb",
   "metadata": {},
   "source": [
    "Scale the features"
   ]
  },
  {
   "cell_type": "code",
   "execution_count": 11,
   "id": "111c972b-8ce1-42ef-a65e-54065116285d",
   "metadata": {},
   "outputs": [],
   "source": [
    "scaler = StandardScaler()"
   ]
  },
  {
   "cell_type": "code",
   "execution_count": 12,
   "id": "0c750d2c-1220-4069-8fe0-a456bf67aa78",
   "metadata": {},
   "outputs": [
    {
     "data": {
      "text/plain": [
       "(331, 7)"
      ]
     },
     "execution_count": 12,
     "metadata": {},
     "output_type": "execute_result"
    }
   ],
   "source": [
    "x_train_scaled = scaler.fit_transform(x_train)\n",
    "x_test_scaled = scaler.transform(x_test)\n",
    "x_train_scaled.shape\n"
   ]
  },
  {
   "cell_type": "code",
   "execution_count": 13,
   "id": "e6cf0730-3c52-4a1b-a1fc-f824751e3e1b",
   "metadata": {},
   "outputs": [
    {
     "data": {
      "text/plain": [
       "(83, 7)"
      ]
     },
     "execution_count": 13,
     "metadata": {},
     "output_type": "execute_result"
    }
   ],
   "source": [
    "x_test_scaled.shape"
   ]
  },
  {
   "cell_type": "markdown",
   "id": "53d24ac9-47d2-4dd6-bfc2-ceaaebeee7d7",
   "metadata": {},
   "source": [
    "Training models and comparison"
   ]
  },
  {
   "cell_type": "code",
   "execution_count": 14,
   "id": "962b7eca-1ab4-44c0-9b9a-49e35daadd17",
   "metadata": {},
   "outputs": [],
   "source": [
    "from sklearn.linear_model import LinearRegression\n",
    "from sklearn.tree import DecisionTreeRegressor\n",
    "from sklearn.ensemble import RandomForestRegressor, GradientBoostingRegressor\n",
    "from sklearn.metrics import mean_absolute_error, r2_score"
   ]
  },
  {
   "cell_type": "markdown",
   "id": "36645961-9ac6-424a-9713-7155aa19d3da",
   "metadata": {},
   "source": [
    "Initialize the Comparison"
   ]
  },
  {
   "cell_type": "code",
   "execution_count": 15,
   "id": "6ddd4473-bfa8-412e-ad8d-82dabd0df4fb",
   "metadata": {},
   "outputs": [],
   "source": [
    "models = {\n",
    "    \"Linear Regression\": LinearRegression(),\n",
    "    \"Decision Tree\": DecisionTreeRegressor(random_state=42),\n",
    "    \"Random Forest\": RandomForestRegressor(random_state=42),\n",
    "    \"Gradient Boosting\": GradientBoostingRegressor(random_state=42)\n",
    "}"
   ]
  },
  {
   "cell_type": "markdown",
   "id": "9a045962-f17c-44d0-8602-2baaf92b44c2",
   "metadata": {},
   "source": [
    "Dictionary to hold the evaluation metrics for each model"
   ]
  },
  {
   "cell_type": "code",
   "execution_count": 16,
   "id": "ac94e9f0-45c0-472e-9b89-27ac69efbc87",
   "metadata": {},
   "outputs": [],
   "source": [
    "results = {}"
   ]
  },
  {
   "cell_type": "markdown",
   "id": "e098e377-bfbf-4725-a718-442065701b7a",
   "metadata": {},
   "source": [
    "Train and evaluate each model"
   ]
  },
  {
   "cell_type": "code",
   "execution_count": 17,
   "id": "936ab029-2278-46c6-9dc2-330af091b476",
   "metadata": {},
   "outputs": [],
   "source": [
    "for name, model in models.items():\n",
    "    #training the model\n",
    "    model.fit(x_train_scaled, y_train)\n",
    "    \n",
    "    # making predictions on the test set\n",
    "    prediction = model.predict(x_test_scaled)\n",
    "    # calculating evaluation metrics\n",
    "    m = mean_absolute_error(y_test, prediction)\n",
    "    r2 = r2_score(y_test, prediction)\n",
    "    #storing the metrics\n",
    "    results[name] = {\"MAE\": m, \"R2\": r2}\n"
   ]
  },
  {
   "cell_type": "code",
   "execution_count": 18,
   "id": "c36564d3-14a1-47c9-befb-92c6f035348d",
   "metadata": {},
   "outputs": [],
   "source": [
    "results_df = pd.DataFrame(results).T"
   ]
  },
  {
   "cell_type": "markdown",
   "id": "fa278732-b69f-4d61-87a8-6355506e7ff8",
   "metadata": {},
   "source": [
    "The performance of each model on the test set, measured by Mean Absolute Error (MAE) and R Squared (R2), is as follows: \n"
   ]
  },
  {
   "cell_type": "code",
   "execution_count": 19,
   "id": "b09f9d15-5118-4d2f-9c70-d57050251059",
   "metadata": {},
   "outputs": [
    {
     "data": {
      "text/html": [
       "<div>\n",
       "<style scoped>\n",
       "    .dataframe tbody tr th:only-of-type {\n",
       "        vertical-align: middle;\n",
       "    }\n",
       "\n",
       "    .dataframe tbody tr th {\n",
       "        vertical-align: top;\n",
       "    }\n",
       "\n",
       "    .dataframe thead th {\n",
       "        text-align: right;\n",
       "    }\n",
       "</style>\n",
       "<table border=\"1\" class=\"dataframe\">\n",
       "  <thead>\n",
       "    <tr style=\"text-align: right;\">\n",
       "      <th></th>\n",
       "      <th>MAE</th>\n",
       "      <th>R2</th>\n",
       "    </tr>\n",
       "  </thead>\n",
       "  <tbody>\n",
       "    <tr>\n",
       "      <th>Linear Regression</th>\n",
       "      <td>9.748246</td>\n",
       "      <td>0.529615</td>\n",
       "    </tr>\n",
       "    <tr>\n",
       "      <th>Decision Tree</th>\n",
       "      <td>11.760342</td>\n",
       "      <td>0.204962</td>\n",
       "    </tr>\n",
       "    <tr>\n",
       "      <th>Random Forest</th>\n",
       "      <td>9.887601</td>\n",
       "      <td>0.509547</td>\n",
       "    </tr>\n",
       "    <tr>\n",
       "      <th>Gradient Boosting</th>\n",
       "      <td>10.000117</td>\n",
       "      <td>0.476071</td>\n",
       "    </tr>\n",
       "  </tbody>\n",
       "</table>\n",
       "</div>"
      ],
      "text/plain": [
       "                         MAE        R2\n",
       "Linear Regression   9.748246  0.529615\n",
       "Decision Tree      11.760342  0.204962\n",
       "Random Forest       9.887601  0.509547\n",
       "Gradient Boosting  10.000117  0.476071"
      ]
     },
     "execution_count": 19,
     "metadata": {},
     "output_type": "execute_result"
    }
   ],
   "source": [
    "results_df"
   ]
  },
  {
   "cell_type": "markdown",
   "id": "28b1be3e-f5b9-4c3c-b32f-78a74650a4d4",
   "metadata": {},
   "source": [
    "Compare Multiple ML Models, \n",
    "\n",
    "Linear regression model has lowest MAE: 9.748 and highest R2: 0.529, making it the best performing model among those being evaluated. It suggests that, despite it's simplicity, linear Regression is quite effective for this dataset. \n",
    "\n",
    "Decision Tree Regressor shows the highest MAE: 11.760 and the lowest R2: 0.204, indicating it may be overfitting to the training data and performing poorly on the test data. On the other hand, Random Forest Regressor and Gradient Boosting Regressor have similar MAEs (9.89 and 10.00, respectively) and R² scores (0.51 and 0.48, respectively), performing slightly worse than the Linear Regression model but better than the Decision Tree.\n",
    "\n",
    " "
   ]
  }
 ],
 "metadata": {
  "kernelspec": {
   "display_name": "Python 3 (ipykernel)",
   "language": "python",
   "name": "python3"
  },
  "language_info": {
   "codemirror_mode": {
    "name": "ipython",
    "version": 3
   },
   "file_extension": ".py",
   "mimetype": "text/x-python",
   "name": "python",
   "nbconvert_exporter": "python",
   "pygments_lexer": "ipython3",
   "version": "3.12.7"
  }
 },
 "nbformat": 4,
 "nbformat_minor": 5
}
